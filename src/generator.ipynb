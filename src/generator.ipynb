{
 "cells": [
  {
   "cell_type": "code",
   "execution_count": null,
   "id": "619b3966-dcbc-4ddf-bec7-09896ad0f83b",
   "metadata": {},
   "outputs": [],
   "source": [
    "import pandas as pd\n",
    "from datetime import datetime, timedelta\n",
    "\n",
    "# Parameters\n",
    "pvin_list = [\"PVIN001\", \"PVIN002\", \"PVIN003\",\"PVIN004\",\"PVIN005\"]\n",
    "rows_per_pvin = 10\n",
    "start_time = datetime(2025, 1, 1, 0, 0, 0)\n",
    "\n",
    "# Generate data\n",
    "data = []\n",
    "for pvin in pvin_list:\n",
    "    for i in range(rows_per_pvin):\n",
    "        data.append({\n",
    "            \"timestamp\": start_time + timedelta(hours=i),\n",
    "            \"odometer\": 10000 + i * 100,\n",
    "            \"pvin\": pvin,\n",
    "            \"value\": round(i * 1.1, 2)\n",
    "        })\n",
    "\n",
    "df = pd.DataFrame(data)\n",
    "\n",
    "# Save to Parquet\n",
    "df.to_parquet(\"../data/time_series_by_pvin.parquet\", engine=\"pyarrow\", index=False)\n",
    "\n",
    "print(\"Parquet file saved as 'time_series_by_pvin.parquet'\")\n"
   ]
  }
 ],
 "metadata": {
  "kernelspec": {
   "display_name": "Python 3 (ipykernel)",
   "language": "python",
   "name": "python3"
  },
  "language_info": {
   "codemirror_mode": {
    "name": "ipython",
    "version": 3
   },
   "file_extension": ".py",
   "mimetype": "text/x-python",
   "name": "python",
   "nbconvert_exporter": "python",
   "pygments_lexer": "ipython3",
   "version": "3.12.11"
  }
 },
 "nbformat": 4,
 "nbformat_minor": 5
}
